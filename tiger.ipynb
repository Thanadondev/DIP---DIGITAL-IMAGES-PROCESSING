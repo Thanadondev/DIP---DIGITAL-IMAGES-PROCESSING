{
 "cells": [
  {
   "cell_type": "code",
   "execution_count": null,
   "metadata": {},
   "outputs": [
    {
     "ename": "",
     "evalue": "",
     "output_type": "error",
     "traceback": [
      "\u001b[1;31mThe Kernel crashed while executing code in the the current cell or a previous cell. Please review the code in the cell(s) to identify a possible cause of the failure. Click <a href='https://aka.ms/vscodeJupyterKernelCrash'>here</a> for more info. View Jupyter <a href='command:jupyter.viewOutput'>log</a> for further details."
     ]
    }
   ],
   "source": [
    "import cv2\n",
    "import matplotlib.pyplot as plt\n",
    "import numpy as np\n",
    "\n",
    "cap = cv2.VideoCapture('Tiger.mp4')\n",
    "fourcc = cv2.VideoWriter_fourcc(*'XVID')  # รูปแบบการบันทึกวิดีโอ\n",
    "out = cv2.VideoWriter('output.mp4', fourcc, 30.0, (640,480))\n",
    "while True:\n",
    "   \n",
    "    ret, img = cap.read()\n",
    "    img = cv2.resize(img, (640, 480))\n",
    "    lower_blue = np.array([0, 100, 0])\n",
    "    upper_blue = np.array([120, 255, 100])\n",
    "    mask = cv2.inRange(img, lower_blue, upper_blue)\n",
    "    masked_image = np.copy(img)\n",
    "    masked_image[mask != 0] = [0, 0, 0]\n",
    "    \n",
    "    background_image = cv2.imread('1.jpg')\n",
    "    background_image = cv2.cvtColor(background_image, cv2.COLOR_BGR2RGB)\n",
    "    background_image = cv2.resize(background_image, (640, 480))\n",
    "    res = cv2.bitwise_and(background_image, background_image, mask = mask)\n",
    "\n",
    "    final_image = masked_image + res\n",
    "    # f = img - res\n",
    "    # f = np.where(f == 0, img, f)\n",
    "    out.write(final_image)\n",
    "\n",
    "    cv2.imshow(\"mask\", final_image)\n",
    "\n",
    "    k = cv2.waitKey(1) & 0xff\n",
    "    if k==27:\n",
    "        break\n",
    "\n",
    "cap.release()\n",
    "out.release()"
   ]
  }
 ],
 "metadata": {
  "kernelspec": {
   "display_name": "base",
   "language": "python",
   "name": "python3"
  },
  "language_info": {
   "codemirror_mode": {
    "name": "ipython",
    "version": 3
   },
   "file_extension": ".py",
   "mimetype": "text/x-python",
   "name": "python",
   "nbconvert_exporter": "python",
   "pygments_lexer": "ipython3",
   "version": "3.10.9"
  },
  "orig_nbformat": 4
 },
 "nbformat": 4,
 "nbformat_minor": 2
}
