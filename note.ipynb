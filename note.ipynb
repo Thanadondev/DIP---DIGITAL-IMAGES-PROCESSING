{
 "cells": [
  {
   "cell_type": "code",
   "execution_count": 7,
   "metadata": {},
   "outputs": [],
   "source": [
    "import cv2 as cv\n",
    "import numpy as np\n",
    "path = r'ex4.png'\n",
    "img=cv.imread(path)\n",
    "ret,thresh = cv.threshold(img,130,255,cv.THRESH_BINARY_INV)\n",
    "kernel = np.ones((1,1),np.uint8)\n",
    "kernel2 = np.ones((3,1),np.uint8)\n",
    "kernel3 = np.ones((1,2),np.uint8)\n",
    "kernel4 = np.ones((1,2),np.uint8)\n",
    "opening = cv.morphologyEx(thresh, cv.MORPH_OPEN, kernel)\n",
    "erosion = cv.erode(opening,kernel2,iterations = 1)\n",
    "dilation = cv.dilate(erosion,kernel3,iterations = 1)\n",
    "opening2 = cv.morphologyEx(dilation, cv.MORPH_OPEN, kernel4)\n",
    "ret2,thresh2 = cv.threshold(opening2,130,255,cv.THRESH_BINARY_INV)\n",
    "cv.imshow('Laplacian', np.hstack((img, thresh2)))\n",
    "cv.waitKey(0)\n",
    "cv.destroyAllWindows()"
   ]
  }
 ],
 "metadata": {
  "kernelspec": {
   "display_name": "base",
   "language": "python",
   "name": "python3"
  },
  "language_info": {
   "codemirror_mode": {
    "name": "ipython",
    "version": 3
   },
   "file_extension": ".py",
   "mimetype": "text/x-python",
   "name": "python",
   "nbconvert_exporter": "python",
   "pygments_lexer": "ipython3",
   "version": "3.11.3"
  },
  "orig_nbformat": 4
 },
 "nbformat": 4,
 "nbformat_minor": 2
}
