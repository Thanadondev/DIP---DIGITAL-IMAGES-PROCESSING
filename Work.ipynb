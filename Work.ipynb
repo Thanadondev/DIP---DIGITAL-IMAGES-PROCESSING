{
 "cells": [
  {
   "cell_type": "code",
   "execution_count": null,
   "metadata": {},
   "outputs": [],
   "source": [
    "import numpy as np\n",
    "import cv2\n",
    "\n",
    "# Read image\n",
    "img = cv2.imread('smarties.jpg')\n",
    "# Smooth it\n",
    "img = cv2.medianBlur(img,5)\n",
    "img_copy = img.copy()\n",
    "# Convert to greyscale\n",
    "img_gray = cv2.cvtColor(img_copy,cv2.COLOR_BGR2GRAY)\n",
    "# Apply Hough transform to greyscale image\n",
    "#circles = cv2.HoughCircles(img_gray,cv2.HOUGH_GRADIENT,1,20,\n",
    "#                     param1=60,param2=40,minRadius=0,maxRadius=0)\n",
    "circles = cv2.HoughCircles(img_gray,cv2.HOUGH_GRADIENT,1,20,\n",
    "                     param1=60,param2=40,minRadius=5,maxRadius=50)                    \n",
    "circles = np.uint16(np.around(circles))\n",
    "# Draw the circles\n",
    "for i in circles[0,:]:\n",
    "    # draw the outer circle\n",
    "    cv2.circle(img,(i[0],i[1]),i[2],(0,0,0),2)\n",
    "    # draw the center of the circle\n",
    "cv2.imshow('detected circles',img)\n",
    "cv2.imshow('circles',img_copy)\n",
    "cv2.waitKey(0)\n",
    "cv2.destroyAllWindows()\n"
   ]
  }
 ],
 "metadata": {
  "kernelspec": {
   "display_name": "base",
   "language": "python",
   "name": "python3"
  },
  "language_info": {
   "name": "python",
   "version": "3.9.12"
  },
  "orig_nbformat": 4
 },
 "nbformat": 4,
 "nbformat_minor": 2
}
