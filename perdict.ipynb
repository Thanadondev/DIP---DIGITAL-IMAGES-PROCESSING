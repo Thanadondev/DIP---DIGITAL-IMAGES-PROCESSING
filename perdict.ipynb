{
 "cells": [
  {
   "cell_type": "code",
   "execution_count": 3,
   "metadata": {},
   "outputs": [
    {
     "name": "stderr",
     "output_type": "stream",
     "text": [
      "Ultralytics YOLOv8.0.200  Python-3.11.3 torch-2.1.0+cpu CPU (Intel Core(TM) i7-7700 3.60GHz)\n",
      "Setup complete  (8 CPUs, 16.0 GB RAM, 141.9/223.6 GB disk)\n"
     ]
    }
   ],
   "source": [
    "from IPython import display\n",
    "import ultralytics\n",
    "from ultralytics import YOLO\n",
    "import cv2\n",
    "import numpy as np\n",
    "\n",
    "display.clear_output()\n",
    "ultralytics.checks()"
   ]
  },
  {
   "cell_type": "code",
   "execution_count": 4,
   "metadata": {},
   "outputs": [
    {
     "name": "stderr",
     "output_type": "stream",
     "text": [
      "\n",
      "0: 640x640 9 Dogs, 113.7ms\n",
      "Speed: 7.0ms preprocess, 113.7ms inference, 5.0ms postprocess per image at shape (1, 3, 640, 640)\n"
     ]
    }
   ],
   "source": [
    "model = YOLO(model=\"D:/dip/yolov8/runs/detect/train/weights/best.pt\")\n",
    "img = cv2.imread('./dataset/images/c6ebf6ea-resized_600x600_005fa4a45c75b075.jpg')\n",
    "result = model.predict(source=img, conf=0.25)"
   ]
  },
  {
   "cell_type": "code",
   "execution_count": 5,
   "metadata": {},
   "outputs": [],
   "source": [
    "mask = result[0].masks"
   ]
  },
  {
   "cell_type": "code",
   "execution_count": 2,
   "metadata": {},
   "outputs": [
    {
     "ename": "NameError",
     "evalue": "name 'result' is not defined",
     "output_type": "error",
     "traceback": [
      "\u001b[1;31m---------------------------------------------------------------------------\u001b[0m",
      "\u001b[1;31mNameError\u001b[0m                                 Traceback (most recent call last)",
      "Cell \u001b[1;32mIn[2], line 1\u001b[0m\n\u001b[1;32m----> 1\u001b[0m mask \u001b[39m=\u001b[39m result[\u001b[39m0\u001b[39m]\u001b[39m.\u001b[39mmasks\n\u001b[0;32m      2\u001b[0m overlay \u001b[39m=\u001b[39m img\u001b[39m.\u001b[39mcopy()\n\u001b[0;32m      3\u001b[0m mbox \u001b[39m=\u001b[39m result[\u001b[39m0\u001b[39m]\n",
      "\u001b[1;31mNameError\u001b[0m: name 'result' is not defined"
     ]
    }
   ],
   "source": [
    "mask = result[0].masks\n",
    "overlay = img.copy()\n",
    "mbox = result[0]\n",
    "\n",
    "for box in mbox.boxes:\n",
    "    class_id = mbox.names[box.cls[0].item()]\n",
    "    cords = box.xyxy[0].tolist()\n",
    "    cords = [round(x) for x in cords]\n",
    "    conf = round(box.conf[0].item(),2)\n",
    "    display = f'{class_id} {conf}%'\n",
    "\n",
    "    image = cv2.putText(img, display, (cords[0], cords[1]-10),\n",
    "                        cv2.FONT_HERSHEY_SIMPLEX, 0.5, (255,255,255), 1, cv2.LINE_AA)\n",
    "    image = cv2.rectangle(image, (cords[0],cords[1]), (cords[2], cords[3]), (255,255,0), 2)\n",
    "\n",
    "    if(mask!=None):\n",
    "        for i in range(len(result[0].mask.xy)):\n",
    "            x = mask[i].astype(int)\n",
    "            pts = x.reshape((-1, 1, 2))\n",
    "            image = cv2.polylines(image, [pts], isClosed=True,color=(0,0,255), thickness=2)\n",
    "            overlay = cv2.fillPoly(overlay, pts=[pts], color=(0,0,255))\n",
    "        alpha = 0.4\n",
    "        image = cv2.addWeighted(overlay, alpha, image, 1 - alpha, 0)\n",
    "    \n",
    "    r = 600.0 / image.shape[1]\n",
    "    dim = (600, int(img.shape[0] * r))\n",
    "    resized = cv2.resize(image, dim, interpolation=cv2.INTER_AREA)\n",
    "    cv2.imshow('Marked Image', resized)\n",
    "    cv2.waitKey(0)\n",
    "    cv2.destroyAllWindows()\n"
   ]
  }
 ],
 "metadata": {
  "kernelspec": {
   "display_name": "base",
   "language": "python",
   "name": "python3"
  },
  "language_info": {
   "codemirror_mode": {
    "name": "ipython",
    "version": 3
   },
   "file_extension": ".py",
   "mimetype": "text/x-python",
   "name": "python",
   "nbconvert_exporter": "python",
   "pygments_lexer": "ipython3",
   "version": "3.11.3"
  },
  "orig_nbformat": 4
 },
 "nbformat": 4,
 "nbformat_minor": 2
}
